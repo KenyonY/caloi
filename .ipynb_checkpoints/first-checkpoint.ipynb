{
 "cells": [
  {
   "cell_type": "markdown",
   "metadata": {},
   "source": [
    "# 第二部分"
   ]
  },
  {
   "cell_type": "code",
   "execution_count": 87,
   "metadata": {},
   "outputs": [
    {
     "name": "stdout",
     "output_type": "stream",
     "text": [
      "['np.argsort(arr)1\\t$ 返回arr中的元素从小到大排列，提取其对应的index(索引)。$ count  0\\n',\n",
      " 'np.argsort(arr)2\\t$ 返回arr中的元素从小到大排列，提取其对应的index(索引)。$ count  0\\n',\n",
      " 'np.argsort(arr)3\\t$ 返回arr中的元素从小到大排列，提取其对应的index(索引)。$ count  0\\n']\n",
      "['np.argsort(arr)1\\t$ 返回arr中的元素从小到大排列，提取其对应的index(索引)。$ count  0\\n',\n",
      " 'np.argsort(arr)2\\t$ 返回arr中的元素从小到大排列，提取其对应的index(索引)。$ count  0\\n',\n",
      " 'np.argsort(arr)3\\t$ 返回arr中的元素从小到大排列，提取其对应的index(索引)。$ count  0\\n']\n",
      "{'np.argsort(arr)1\\t': [' 返回arr中的元素从小到大排列，提取其对应的index(索引)。$ count  0\\n'],\n",
      " 'np.argsort(arr)2\\t': [' 返回arr中的元素从小到大排列，提取其对应的index(索引)。$ count  0\\n'],\n",
      " 'np.argsort(arr)3\\t': [' 返回arr中的元素从小到大排列，提取其对应的index(索引)。$ count  0\\n']}\n"
     ]
    }
   ],
   "source": [
    "from pprint import pprint\n",
    "def loadNote(fileName='note.txt'):\n",
    "    with open(fileName, 'r') as fi:\n",
    "        content_list = fi.read().split('【')\n",
    "    if content_list[0] == '':\n",
    "        del content_list[0]\n",
    "    content = []\n",
    "    for i in content_list:\n",
    "        content.append(i.replace('】',''))\n",
    "    pprint(content)\n",
    "    while '\\n' in content:# 删除空行\n",
    "        content.remove('\\n')\n",
    "    return content\n",
    "\n",
    "def list2dict(content):\n",
    "        content_dict = {}\n",
    "\n",
    "        for i in content:\n",
    "            ls = i.split('$')\n",
    "#             if ls[0] not in content_dict: \n",
    "            content_dict.setdefault(ls[0], [])\n",
    "            content_dict[ls[0]].append(ls[1]+'$'+ls[2]) # 加个$保持写入时一致\n",
    "#             else:# 如果有key有重复，在后面一个_repeat\n",
    "#                 content_dict[ls[0]] += ls[1]+'$'+ls[2]\n",
    "        return content_dict\n",
    "    \n",
    "def dict2list(content_dict):\n",
    "    content_list = []\n",
    "    for i in content_dict:\n",
    "        content_list.append(i+'$'+''.join(content_dict[i]))\n",
    "    return content_list\n",
    "\n",
    "def writeNote(content_list, fileName='note_1.txt'):\n",
    "    with open(fileName, 'w') as fo:\n",
    "        for i in content_list:\n",
    "            fo.write(f'【{i}】\\n')  \n",
    "            \n",
    "content_list_0 = loadNote(fileName='note_1.txt')\n",
    "pprint(content_list_0)\n",
    "content_dict = list2dict(content_list_0)\n",
    "pprint(content_dict)\n",
    "# content_list_1 = dict2list(content_dict)\n",
    "# pprint(content_list_1)\n",
    "# writeNote(content_list_1)"
   ]
  },
  {
   "cell_type": "code",
   "execution_count": 91,
   "metadata": {},
   "outputs": [
    {
     "name": "stdout",
     "output_type": "stream",
     "text": [
      "{'np.arg': ['\\n return lalal $ count  0',\n",
      "            '\\n return lalal $ count  0',\n",
      "            '\\n return lalal $ count  0',\n",
      "            '\\n return lalal $ count  0'],\n",
      " 'np.argsort(arr)1\\t': [' 返回arr中的元素从小到大排列，提取其对应的index(索引)。$ count  0\\n'],\n",
      " 'np.argsort(arr)2\\t': [' 返回arr中的元素从小到大排列，提取其对应的index(索引)。$ count  0\\n'],\n",
      " 'np.argsort(arr)3\\t': [' 返回arr中的元素从小到大排列，提取其对应的index(索引)。$ count  0\\n']}\n"
     ]
    }
   ],
   "source": [
    "key = 'np.arg'\n",
    "val = 'return lalal '\n",
    "def addNote(key, val, content_dict):\n",
    "    \n",
    "    \n",
    "    content_dict.setdefault(key, [])\n",
    "    content_dict[key].append('\\n '+val+ '$ count  0') # 加个$保持写入时一致\n",
    "    return content_dict\n",
    "\n",
    "content_dict = addNote(key, val, content_dict)    \n",
    "pprint(content_dict)\n",
    "\n",
    "content_list_1 = dict2list(content_dict)\n",
    "writeNote(content_list_1)"
   ]
  },
  {
   "cell_type": "code",
   "execution_count": 1,
   "metadata": {},
   "outputs": [],
   "source": [
    "import numpy as np"
   ]
  },
  {
   "cell_type": "code",
   "execution_count": 85,
   "metadata": {},
   "outputs": [
    {
     "data": {
      "text/plain": [
       "[1, 2, 3, 5, 6, 7]"
      ]
     },
     "execution_count": 85,
     "metadata": {},
     "output_type": "execute_result"
    }
   ],
   "source": [
    "a = [2,5,6,7,1,3]\n",
    "a.sort()\n",
    "a"
   ]
  },
  {
   "cell_type": "markdown",
   "metadata": {},
   "source": [
    "# 第一部分"
   ]
  },
  {
   "cell_type": "code",
   "execution_count": null,
   "metadata": {},
   "outputs": [],
   "source": [
    "class utils:\n",
    "    @staticmethod\n",
    "    def get_prob(counts_list, n = 1.5):\n",
    "        '''\n",
    "        inputs:\n",
    "            counts_list: type list, the counts  are arranged from smallest to largest [0,0,1,2,5,...]\n",
    "            n: describe the propability to choise the element of counts_list,  n>1\n",
    "        '''\n",
    "        counts = np.array(counts_list,dtype=np.float32)\n",
    "        counts[counts==0] = 0.9\n",
    "        p = 1/(counts**n)\n",
    "        p = p/sum(p)\n",
    "        return p\n",
    "    \n",
    "    @staticmethod\n",
    "    def get_idx_list(counts_prob):\n",
    "        '''\n",
    "        counts_prob: probability list\n",
    "        return: index list\n",
    "        '''\n",
    "        def idx_pick(counts_prob, _random):\n",
    "            accumu_prob = 0\n",
    "            for idx, prob in enumerate(counts_prob):\n",
    "                accumu_prob += prob\n",
    "                if accumu_prob >= _random:\n",
    "                    return idx\n",
    "        idx = []  \n",
    "        for i in np.random.rand(len(counts_prob)):\n",
    "            idx.append(idx_pick(counts_prob, i))\n",
    "        return idx\n",
    "\n",
    "    @staticmethod\n",
    "    def get_idx(idx_list):\n",
    "        return list(set(idx_list[:15]))"
   ]
  },
  {
   "cell_type": "code",
   "execution_count": 108,
   "metadata": {},
   "outputs": [],
   "source": [
    "import pickle \n",
    "import os\n",
    "import time\n",
    "class Mynote:\n",
    "\n",
    "    def __init__(self, userName = ''):\n",
    "#         import pickle \n",
    "#         self.category = category\n",
    "        self._english = {}\n",
    "        self._essay = []\n",
    "        self.fileName = userName+'dict.pkl'\n",
    "        self.en_read_len, self.es_read_len = 0, 0\n",
    "        self.get_read_item_en = self.get_read_item('english')\n",
    "        self.get_read_item_es = self.get_read_item('essay')\n",
    "\n",
    "        \n",
    "        \n",
    "    def english(self, label, content):\n",
    "        self._english.setdefault(label, [])\n",
    "        self._english[label].append([content, 0])\n",
    "        \n",
    "    def essay(self, content):\n",
    "        self._essay.append([content, 0])\n",
    "    \n",
    "    def get_read_item(self, flag):\n",
    "\n",
    "        \n",
    "        if flag == 'english':\n",
    "            while 1:\n",
    "                en_sorted_list = sorted(self._english.items(), # _english's data structure is {key, [[val1, count],[val2, 0],...]}\n",
    "                                        key=lambda x: x[1][0][1], reverse=False) # sorted from small to big of count\n",
    "                en_sorted_idx =[i[1][0][1] for i in en_sorted_list] # get sorted index\n",
    "                counts_prob = utils.get_prob(en_sorted_idx, n=2)\n",
    "                idx_list = utils.get_idx_list(counts_prob)\n",
    "                idx = utils.get_idx(idx_list)              \n",
    "#                 print(en_sorted_list,'en_sorted_list')\n",
    "#                 print(idx)\n",
    "                self.en_read_len = len(idx)\n",
    "                for i in idx:\n",
    "                    key = en_sorted_list[i]\n",
    "                    yield key[0]\n",
    "                    \n",
    "        elif flag == 'essay':\n",
    "            while 1:\n",
    "                self._essay.sort(key=lambda x: x[1], reverse=False)\n",
    "                es_sorted_idx = [i[1] for i in self._essay]\n",
    "\n",
    "                counts_prob = utils.get_prob(es_sorted_idx, n=2)\n",
    "                idx_list = utils.get_idx_list(counts_prob)\n",
    "                idx = utils.get_idx(idx_list)\n",
    "                print(idx)\n",
    "                self.es_read_len = len(idx)\n",
    "                for i in idx:\n",
    "                    yield i\n",
    "        else:\n",
    "            raise ''\n",
    "                \n",
    "    def read_eng(self):          \n",
    "        key = next(self.get_read_item_en)\n",
    "        self._english[key][0][1] += 1 # count\n",
    "        return [key, self._english[key]]\n",
    "    \n",
    "    def read_essay(self):\n",
    "        idx = next(self.get_read_item_es)\n",
    "        self._essay[idx][1] += 1 # count \n",
    "        return idx, self._essay[idx]\n",
    "    \n",
    "    def save(self):\n",
    "        with open(self.fileName,'wb') as fo:\n",
    "            pickle.dump((self._english, self._essay), fo)\n",
    "            \n",
    "    def load(self):\n",
    "        with open(self.fileName,'rb') as fi:\n",
    "            self._english, self._essay = pickle.load(fi)\n",
    "            \n",
    "    def del_en_key(self,key):\n",
    "        '''delete english the related item of dict'''\n",
    "        del self._english[key]\n",
    "\n",
    "    def del_es_idx(self,idx):\n",
    "        del self._essay[idx]\n",
    "\n"
   ]
  },
  {
   "cell_type": "code",
   "execution_count": 109,
   "metadata": {},
   "outputs": [
    {
     "name": "stdin",
     "output_type": "stream",
     "text": [
      "进入记录模式press 1, 进入回顾模式press 2, 退出press 0 2\n"
     ]
    },
    {
     "name": "stdout",
     "output_type": "stream",
     "text": [
      "*********************** Review ************************\n"
     ]
    },
    {
     "name": "stdin",
     "output_type": "stream",
     "text": [
      " English :1, Inspiration :2, back :0 1\n"
     ]
    },
    {
     "name": "stdout",
     "output_type": "stream",
     "text": [
      "conpose\n",
      "-------------------------------------------- 构成；写作\n"
     ]
    },
    {
     "name": "stdin",
     "output_type": "stream",
     "text": [
      "... 1\n"
     ]
    },
    {
     "name": "stdout",
     "output_type": "stream",
     "text": [
      "夏目漱石曾把'I love you'翻译成“今晚月色真美”。那么如何翻译'I love you too'?\n",
      "--------------------------------------------- 风也温柔\n"
     ]
    },
    {
     "name": "stdin",
     "output_type": "stream",
     "text": [
      "... \n"
     ]
    },
    {
     "name": "stdout",
     "output_type": "stream",
     "text": [
      "最好的老师不是兴趣 而是\n",
      "----------------------------------------------- 生存\n",
      "*********************** Review ************************\n"
     ]
    },
    {
     "name": "stdin",
     "output_type": "stream",
     "text": [
      " English :1, Inspiration :2, back :0 2\n"
     ]
    },
    {
     "name": "stdout",
     "output_type": "stream",
     "text": [
      "[0, 1, 2, 3, 5]\n",
      "进化的方向，是朝着越来越抽象的方向进行，在这有限的生命周期内，我们将越来越不具备从具体到抽象的能力，而只能是从抽象到更抽象，而且，我们也不需要再去理解具体。在这样的时代，选择好的抽象的起点很重要。 \t counts 10\n"
     ]
    },
    {
     "name": "stdin",
     "output_type": "stream",
     "text": [
      "... \n"
     ]
    },
    {
     "name": "stdout",
     "output_type": "stream",
     "text": [
      "要让对方在吃过饭后不久做决策。否则会更易做出否定决策。 \t counts 10\n"
     ]
    },
    {
     "name": "stdin",
     "output_type": "stream",
     "text": [
      "... 0\n"
     ]
    },
    {
     "name": "stdout",
     "output_type": "stream",
     "text": [
      "*********************** Review ************************\n"
     ]
    },
    {
     "name": "stdin",
     "output_type": "stream",
     "text": [
      " English :1, Inspiration :2, back :0 0\n",
      "进入记录模式press 1, 进入回顾模式press 2, 退出press 0 0\n"
     ]
    }
   ],
   "source": [
    "def main():    \n",
    "    note = Mynote()\n",
    "    try:\n",
    "        note.load()\n",
    "    except:\n",
    "        print('No dictionary data was imported')\n",
    "    disp_mode = [' Record ', ' Review ']\n",
    "\n",
    "    while 1:\n",
    "        mode = input('进入记录模式press 1, 进入回顾模式press 2, 退出press 0')\n",
    "        if mode == '1':\n",
    "            print(f'{disp_mode[0]:*<55}')\n",
    "            while 1:\n",
    "                flag = input('记录单词press 1, 记录灵感press 2, 退回press 0 \\n')\n",
    "                if flag == '1':\n",
    "                    answer = tuple(input('pls input your words follow, separated from\",\"\\n').split(','))\n",
    "                    note.english(answer[0], answer[1])\n",
    "                elif flag == '2':\n",
    "                    answer = input('pls input your inspiration here\\n')\n",
    "                    note.essay(answer)\n",
    "                elif flag == '0':\n",
    "                    break\n",
    "                else:\n",
    "                    print('bad input, try again\\n')\n",
    "        elif mode == '2':\n",
    "            while 1:\n",
    "\n",
    "                print(f'{disp_mode[1]:*^55}')\n",
    "                try:\n",
    "                    read_idx = eval(input(' English :1, Inspiration :2, back :0'))\n",
    "                    read_flag = [0, 'English','Inspiration']\n",
    "                    if read_idx > 2:\n",
    "                        print('bad input, try again\\n')\n",
    "                        continue\n",
    "                except:\n",
    "                    print('bad input, try again\\n')\n",
    "                    continue\n",
    "                en_read_len = note.en_read_len\n",
    "\n",
    "\n",
    "                if read_flag[read_idx] == 'Inspiration': # this episode is stupid\n",
    "                    es_idx, read_ess = note.read_essay()\n",
    "                    es_read_len = note.es_read_len\n",
    "                    while True:\n",
    "                        es_read_len -= 1\n",
    "                        print(read_ess[0], f'\\t counts {read_ess[1]}')\n",
    "                        if es_read_len == 0:\n",
    "                            break\n",
    "                        _ = input('...')\n",
    "                        if _ == '0':\n",
    "                            break\n",
    "                        if _ == '-1':\n",
    "                            print(f'delete item {read_ess[0]}')\n",
    "                            note.del_en_key(es_idx)\n",
    "                        es_idx, read_ess = note.read_essay()\n",
    "\n",
    "                if read_flag[read_idx] == 'English': # stupid too\n",
    "                    read_eng = note.read_eng()\n",
    "                    en_read_len = note.en_read_len\n",
    "                    while True:\n",
    "                        en_read_len -= 1\n",
    "                        print(f'{read_eng[0]}')\n",
    "                        time.sleep(4)\n",
    "                        print(f'{read_eng[1][0][0]:->50}')\n",
    "                        if en_read_len == 0:\n",
    "                            break\n",
    "                        _ = input('...')\n",
    "                        if _ == '0':\n",
    "                            break\n",
    "                        elif _ == '-1':# del item\n",
    "                            print(f'delete item {read_eng[0]}')\n",
    "                            note.del_en_key(read_eng[0])\n",
    "                        read_eng = note.read_eng()\n",
    "                elif read_flag[read_idx] ==0:\n",
    "                    break\n",
    "\n",
    "        elif mode == '0':\n",
    "            break\n",
    "        else:\n",
    "            print('bad input, try again\\n')\n",
    "\n",
    "    note.save()\n",
    "            \n",
    "if __name__ == '__main__':\n",
    "    main()"
   ]
  },
  {
   "cell_type": "code",
   "execution_count": 93,
   "metadata": {},
   "outputs": [],
   "source": [
    "def del_en_key(key, userName = ''):\n",
    "    '''delete english the related item of dict'''\n",
    "    note = Mynote(userName)\n",
    "    note.load()\n",
    "    del note._english[key]\n",
    "    note.save()\n",
    "def del_es_key(key, userName=''):\n",
    "    note = Mynote(userName)\n",
    "    note.load()\n",
    "    note._essay.remove[key]\n",
    "    \n"
   ]
  },
  {
   "cell_type": "code",
   "execution_count": null,
   "metadata": {},
   "outputs": [],
   "source": []
  },
  {
   "cell_type": "code",
   "execution_count": 99,
   "metadata": {},
   "outputs": [
    {
     "name": "stdout",
     "output_type": "stream",
     "text": [
      "{'Rhymes': [['押韵', 31]], 'conpose': [[' 构成；写作', 6]], '最好的老师不是兴趣 而是': [[' 生存', 6]], \"夏目漱石曾把'I love you'翻译成“今晚月色真美”。那么如何翻译'I love you too'?\": [[' 风也温柔', 5]]}\n",
      "[['很遗憾，你并不是真学懂了前人的理论。你只是学会了前人为你编织的程序而已。', 10], ['进化的方向，是朝着越来越抽象的方向进行，在这有限的生命周期内，我们将越来越不具备从具体到抽象的能力，而只能是从抽象到更抽象，而且，我们也不需要再去理解具体。在这样的时代，选择好的抽象的起点很重要。', 9], ['古典神话中，英雄尤利西斯把自己绑在船桅上，这样一来，他既能听到海妖sirens美妙的歌声，又不会受魅惑而撞到暗礁。', 9], ['要让对方在吃过饭后不久做决策。否则会更易做出否定决策。', 9], ['尤利西斯知道未来的自己会做出错误的决策。这种现在的你和未来的你之间达成的交易，被称为尤利西斯合同。', 9], ['真正的自信，是对自身境遇的不纠结。', 10], ['要么孤独，要么庸俗。', 26], ['闭上眼睛，忘记那些由大脑虚构出的物质表象，这个世界便只剩下数字与模型。', 27]]\n"
     ]
    }
   ],
   "source": [
    "mynote = Mynote()\n",
    "mynote.load()\n",
    "print(mynote._english)\n",
    "print(mynote._essay)"
   ]
  },
  {
   "cell_type": "code",
   "execution_count": 102,
   "metadata": {},
   "outputs": [
    {
     "name": "stdout",
     "output_type": "stream",
     "text": [
      "[['很遗憾，你并不是真学懂了前人的理论。你只是学会了前人为你编织的程序而已。', 10], ['进化的方向，是朝着越来越抽象的方向进行，在这有限的生命周期内，我们将越来越不具备从具体到抽象的能力，而只能是从抽象到更抽象，而且，我们也不需要再去理解具体。在这样的时代，选择好的抽象的起点很重要。', 9], ['古典神话中，英雄尤利西斯把自己绑在船桅上，这样一来，他既能听到海妖sirens美妙的歌声，又不会受魅惑而撞到暗礁。', 9], ['要让对方在吃过饭后不久做决策。否则会更易做出否定决策。', 9], ['尤利西斯知道未来的自己会做出错误的决策。这种现在的你和未来的你之间达成的交易，被称为尤利西斯合同。', 9], ['真正的自信，是对自身境遇的不纠结。', 10], ['要么孤独，要么庸俗。', 26], ['闭上眼睛，忘记那些由大脑虚构出的物质表象，这个世界便只剩下数字与模型。', 27]]\n"
     ]
    },
    {
     "data": {
      "text/plain": [
       "[['进化的方向，是朝着越来越抽象的方向进行，在这有限的生命周期内，我们将越来越不具备从具体到抽象的能力，而只能是从抽象到更抽象，而且，我们也不需要再去理解具体。在这样的时代，选择好的抽象的起点很重要。',\n",
       "  9],\n",
       " ['古典神话中，英雄尤利西斯把自己绑在船桅上，这样一来，他既能听到海妖sirens美妙的歌声，又不会受魅惑而撞到暗礁。', 9],\n",
       " ['要让对方在吃过饭后不久做决策。否则会更易做出否定决策。', 9],\n",
       " ['尤利西斯知道未来的自己会做出错误的决策。这种现在的你和未来的你之间达成的交易，被称为尤利西斯合同。', 9],\n",
       " ['真正的自信，是对自身境遇的不纠结。', 10],\n",
       " ['要么孤独，要么庸俗。', 26],\n",
       " ['闭上眼睛，忘记那些由大脑虚构出的物质表象，这个世界便只剩下数字与模型。', 27]]"
      ]
     },
     "execution_count": 102,
     "metadata": {},
     "output_type": "execute_result"
    }
   ],
   "source": [
    "a = mynote._essay\n",
    "print(a)\n",
    "del a[0]\n",
    "a"
   ]
  },
  {
   "cell_type": "code",
   "execution_count": null,
   "metadata": {},
   "outputs": [],
   "source": []
  },
  {
   "cell_type": "markdown",
   "metadata": {},
   "source": [
    "如果我希望，count * probability = const, 那么可以简单认为概率p= 1/count, 然后进行归一化。而如果我希望扩大比较小的count被取到的概率，而不是这样的线性的概率，\n",
    "那么可以考虑 p = 1/(count**n), n = 1,2,3,..., 然后归一化。"
   ]
  },
  {
   "cell_type": "code",
   "execution_count": 13,
   "metadata": {},
   "outputs": [],
   "source": [
    "def get_prob(counts_list, n = 1.5):\n",
    "    '''\n",
    "    inputs:\n",
    "        counts_list: type list, the counts  are arranged from smallest to largest [0,0,1,2,5,...]\n",
    "        n: describe the propability to choise the element of counts_list,  n>1\n",
    "    '''\n",
    "    counts = np.array(counts_list,dtype=np.float32)\n",
    "    counts[counts==0] = 0.9\n",
    "    p = 1/(counts**n)\n",
    "    p = p/sum(p)\n",
    "    return p\n"
   ]
  },
  {
   "cell_type": "code",
   "execution_count": 19,
   "metadata": {},
   "outputs": [
    {
     "data": {
      "text/plain": [
       "array([2.5970861e-01, 1.8932755e-01, 1.8932755e-01, 1.8932755e-01,\n",
       "       2.3665944e-02, 2.3665944e-02, 2.3665944e-02, 2.3665944e-02,\n",
       "       2.3665944e-02, 2.3665944e-02, 7.0121316e-03, 7.0121316e-03,\n",
       "       7.0121316e-03, 1.5146205e-03, 1.5146205e-03, 1.5146205e-03,\n",
       "       8.7651645e-04, 8.7651645e-04, 8.7651645e-04, 5.5197539e-04,\n",
       "       5.5197539e-04, 3.6978038e-04, 3.6978038e-04, 2.5970858e-04],\n",
       "      dtype=float32)"
      ]
     },
     "execution_count": 19,
     "metadata": {},
     "output_type": "execute_result"
    }
   ],
   "source": [
    "counts_prob = get_prob([0, 1,1,1, 2,2,2,2,2,2,3,3,3,5,5,5,6,6,6,7,7,8,8,9], n=3)\n",
    "(counts_prob)"
   ]
  },
  {
   "cell_type": "code",
   "execution_count": 109,
   "metadata": {},
   "outputs": [],
   "source": [
    "def get_prob(counts_list, n = 1.5):\n",
    "    '''\n",
    "    inputs:\n",
    "        counts_list: type list, the counts  are arranged from smallest to largest [0,0,1,2,5,...]\n",
    "        n: describe the propability to choise the element of counts_list,  n>1\n",
    "    '''\n",
    "    counts = np.array(counts_list,dtype=np.float32)\n",
    "    counts[counts==0] = 0.9\n",
    "    p = 1/(counts**n)\n",
    "    p = p/sum(p)\n",
    "    return p\n",
    "\n",
    "def get_idx_list(counts_prob):\n",
    "    '''\n",
    "    counts_prob: probability list\n",
    "    return: index list\n",
    "    '''\n",
    "    def idx_pick(counts_prob, _random):\n",
    "        accumu_prob = 0\n",
    "        for idx, prob in enumerate(counts_prob):\n",
    "            accumu_prob += prob\n",
    "            if accumu_prob >= _random:\n",
    "                return idx\n",
    "    idx = []  \n",
    "    for i in np.random.rand(len(counts_prob)):\n",
    "        idx.append(idx_pick(counts_prob, i))\n",
    "    return idx\n",
    "\n",
    "\n",
    "def get_idx(idx_list):\n",
    "    return list(set(idx_list[:15]))\n"
   ]
  },
  {
   "cell_type": "code",
   "execution_count": null,
   "metadata": {},
   "outputs": [],
   "source": [
    "counts_prob = get_prob([0, 1,1,1, 2,2,2,2,2,2,3,3,3,5,5,5,6,6,6,7,7,8,8,9], n=3)\n",
    "idx_list = get_idx_list(counts_prob)\n",
    "idx = get_idx(idx_list)\n",
    "idx"
   ]
  },
  {
   "cell_type": "code",
   "execution_count": 117,
   "metadata": {},
   "outputs": [],
   "source": [
    "mynote = Mynote()\n",
    "mynote.load()"
   ]
  },
  {
   "cell_type": "code",
   "execution_count": 118,
   "metadata": {},
   "outputs": [],
   "source": [
    "# mynote.english('Rhymes', '押韵')\n",
    "# mynote.essay('要么孤独，要么庸俗。')"
   ]
  },
  {
   "cell_type": "code",
   "execution_count": 119,
   "metadata": {},
   "outputs": [],
   "source": [
    "# mynote.load()"
   ]
  },
  {
   "cell_type": "code",
   "execution_count": 120,
   "metadata": {},
   "outputs": [
    {
     "data": {
      "text/plain": [
       "{'Rhymes': [['押韵', 31]],\n",
       " 'conpose': [[' 构成；写作', 4]],\n",
       " \"夏目漱石曾把'I love you'翻译成“今晚月色真美”。那么如何翻译'I love you\": [[\" too'?\", 3]],\n",
       " '最好的老师不是兴趣 而是': [[' 生存', 3]],\n",
       " \"夏目漱石曾把'I love you'翻译成“今晚月色真美”。那么如何翻译'I love you too'?\": [[' 风也温柔', 1]]}"
      ]
     },
     "execution_count": 120,
     "metadata": {},
     "output_type": "execute_result"
    }
   ],
   "source": [
    "mynote._english"
   ]
  },
  {
   "cell_type": "code",
   "execution_count": 7,
   "metadata": {},
   "outputs": [],
   "source": []
  },
  {
   "cell_type": "code",
   "execution_count": 516,
   "metadata": {},
   "outputs": [
    {
     "data": {
      "text/plain": [
       "['Rhymes', [['押韵', 1]]]"
      ]
     },
     "execution_count": 516,
     "metadata": {},
     "output_type": "execute_result"
    }
   ],
   "source": [
    "mynote.read_eng()"
   ]
  },
  {
   "cell_type": "code",
   "execution_count": 39,
   "metadata": {},
   "outputs": [
    {
     "data": {
      "text/plain": [
       "['要么孤独，要么庸俗。', 2]"
      ]
     },
     "execution_count": 39,
     "metadata": {},
     "output_type": "execute_result"
    }
   ],
   "source": [
    "mynote.read_essay()"
   ]
  },
  {
   "cell_type": "code",
   "execution_count": 40,
   "metadata": {},
   "outputs": [],
   "source": [
    "mynote.save()"
   ]
  },
  {
   "cell_type": "code",
   "execution_count": null,
   "metadata": {},
   "outputs": [],
   "source": []
  }
 ],
 "metadata": {
  "kernelspec": {
   "display_name": "Python [conda env:mxnet]",
   "language": "python",
   "name": "conda-env-mxnet-py"
  },
  "language_info": {
   "codemirror_mode": {
    "name": "ipython",
    "version": 3
   },
   "file_extension": ".py",
   "mimetype": "text/x-python",
   "name": "python",
   "nbconvert_exporter": "python",
   "pygments_lexer": "ipython3",
   "version": "3.6.8"
  }
 },
 "nbformat": 4,
 "nbformat_minor": 4
}
