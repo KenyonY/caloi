{
 "cells": [
  {
   "cell_type": "code",
   "execution_count": 1,
   "metadata": {},
   "outputs": [
    {
     "name": "stdout",
     "output_type": "stream",
     "text": [
      "█\r"
     ]
    }
   ],
   "source": [
    "import itchat\n",
    "from itchat.content import *\n",
    "import time\n",
    "# import jieba"
   ]
  },
  {
   "cell_type": "code",
   "execution_count": 2,
   "metadata": {},
   "outputs": [],
   "source": [
    "itchat.auto_login(hotReload=True)"
   ]
  },
  {
   "cell_type": "code",
   "execution_count": 3,
   "metadata": {},
   "outputs": [],
   "source": [
    "'''name：给friend的注释名， nickName：friend本身昵称\n",
    "因为nickName会更容易变化，所以检索时更多使用name.\n",
    "当我们对好友进行了备注时，name = remarkName\n",
    "当未对好友备注时， name = nickName\n",
    "而对于固定的人们，我们直接使用几乎永久不变的UserName来寻找\n",
    "'''\n",
    "name = \"光\" "
   ]
  },
  {
   "cell_type": "code",
   "execution_count": 4,
   "metadata": {},
   "outputs": [
    {
     "data": {
      "text/plain": [
       "<User: {'MemberList': <ContactList: []>, 'Uin': 0, 'UserName': '@db02350943593d46ceb1b4700156b643c1b6561c7a928225ae2f47b013b43aca', 'NickName': '光', 'HeadImgUrl': '/cgi-bin/mmwebwx-bin/webwxgeticon?seq=696770632&username=@db02350943593d46ceb1b4700156b643c1b6561c7a928225ae2f47b013b43aca&skey=@crypt_d43c5d55_ce31021c90c2b7ffaf8965153cc74501', 'ContactFlag': 3, 'MemberCount': 0, 'RemarkName': '', 'HideInputBarFlag': 0, 'Sex': 0, 'Signature': '', 'VerifyFlag': 0, 'OwnerUin': 0, 'PYInitial': 'G', 'PYQuanPin': 'guang', 'RemarkPYInitial': '', 'RemarkPYQuanPin': '', 'StarFriend': 0, 'AppAccountFlag': 0, 'Statues': 0, 'AttrStatus': 4133, 'Province': '', 'City': '', 'Alias': '', 'SnsFlag': 1, 'UniFriend': 0, 'DisplayName': '', 'ChatRoomId': 0, 'KeyWord': '', 'EncryChatRoomId': '', 'IsOwner': 0}>"
      ]
     },
     "execution_count": 4,
     "metadata": {},
     "output_type": "execute_result"
    }
   ],
   "source": [
    "guang = itchat.search_friends(name)\n",
    "guang[0]"
   ]
  },
  {
   "cell_type": "code",
   "execution_count": 17,
   "metadata": {},
   "outputs": [],
   "source": [
    "def get_all_info():\n",
    "    '''get all my friends' information ''' \n",
    "    nickNames = []\n",
    "    \n",
    "    for friend in itchat.get_friends():\n",
    "        nickNames.append(friend.NickName)\n",
    "        pass\n",
    "    "
   ]
  },
  {
   "cell_type": "code",
   "execution_count": 5,
   "metadata": {},
   "outputs": [],
   "source": [
    "import pickle\n",
    "from mynote import *\n",
    "\n",
    "\n",
    "def get_userName(*name_list):\n",
    "    UserNames = {}\n",
    "    for name in name_list:\n",
    "        friends = itchat.search_friends(name=name)\n",
    "        if len(friends) == 1:\n",
    "            UserNames[name] = friends[0].UserName\n",
    "        else:\n",
    "            print(f'name: “{name}” is NOT unique')\n",
    "            raise ''\n",
    "    return UserNames\n",
    "\n",
    "\n",
    "def save_userName():\n",
    "    name_list = ['爸爸', '妈妈', '姐姐', \n",
    "             '被冻结的光', '岑', 'hyeves','歪歪', '张丛','光']\n",
    "    userNames = get_userName(*name_list)\n",
    "    with open('userNames.pkl', 'wb') as fo:\n",
    "        pickle.dump(userNames, fo)\n",
    "        \n",
    "def load_userName():\n",
    "    with open('userNames.pkl', 'rb') as fi:\n",
    "        userNames = pickle.load(fi)\n",
    "\n",
    "# userNames = get_userName(*name_list)\n",
    "\n",
    "guang = itchat.search_friends(userName= get_userName('光')['光'])"
   ]
  },
  {
   "cell_type": "markdown",
   "metadata": {},
   "source": [
    "msg.user 就是itchat.search_friends()的结果。  \n",
    "它们使用.send()发送消息。  \n"
   ]
  },
  {
   "cell_type": "code",
   "execution_count": 6,
   "metadata": {},
   "outputs": [
    {
     "data": {
      "text/plain": [
       "['@249809b10aeeb3f40a8aae4fbd3b7c4c',\n",
       " '@db02350943593d46ceb1b4700156b643c1b6561c7a928225ae2f47b013b43aca']"
      ]
     },
     "execution_count": 6,
     "metadata": {},
     "output_type": "execute_result"
    }
   ],
   "source": [
    "name_list = ['被冻结的光','光']\n",
    "userNames = get_userName(*name_list)\n",
    "list(userNames.values())"
   ]
  },
  {
   "cell_type": "code",
   "execution_count": 58,
   "metadata": {},
   "outputs": [
    {
     "name": "stdout",
     "output_type": "stream",
     "text": [
      "\n",
      "False\n",
      "False\n",
      "False\n",
      "{'MsgId': '7039364642175245269', 'FromUserName': '@db02350943593d46ceb1b4700156b643c1b6561c7a928225ae2f47b013b43aca', 'ToUserName': '@249809b10aeeb3f40a8aae4fbd3b7c4c', 'MsgType': 1, 'Content': 'u', 'Status': 3, 'ImgStatus': 1, 'CreateTime': 1569257153, 'VoiceLength': 0, 'PlayLength': 0, 'FileName': '', 'FileSize': '', 'MediaId': '', 'Url': '', 'AppMsgType': 0, 'StatusNotifyCode': 0, 'StatusNotifyUserName': '', 'RecommendInfo': {'UserName': '', 'NickName': '', 'QQNum': 0, 'Province': '', 'City': '', 'Content': '', 'Signature': '', 'Alias': '', 'Scene': 0, 'VerifyFlag': 0, 'AttrStatus': 0, 'Sex': 0, 'Ticket': '', 'OpCode': 0}, 'ForwardFlag': 0, 'AppInfo': {'AppID': '', 'Type': 0}, 'HasProductId': 0, 'Ticket': '', 'ImgHeight': 0, 'ImgWidth': 0, 'SubMsgType': 0, 'NewMsgId': 7039364642175245269, 'OriContent': '', 'EncryFileName': '', 'User': <User: {'MemberList': <ContactList: []>, 'Uin': 0, 'UserName': '@db02350943593d46ceb1b4700156b643c1b6561c7a928225ae2f47b013b43aca', 'NickName': '光', 'HeadImgUrl': '/cgi-bin/mmwebwx-bin/webwxgeticon?seq=696770632&username=@db02350943593d46ceb1b4700156b643c1b6561c7a928225ae2f47b013b43aca&skey=@crypt_d43c5d55_ce31021c90c2b7ffaf8965153cc74501', 'ContactFlag': 3, 'MemberCount': 0, 'RemarkName': '', 'HideInputBarFlag': 0, 'Sex': 0, 'Signature': '', 'VerifyFlag': 0, 'OwnerUin': 0, 'PYInitial': 'G', 'PYQuanPin': 'guang', 'RemarkPYInitial': '', 'RemarkPYQuanPin': '', 'StarFriend': 0, 'AppAccountFlag': 0, 'Statues': 0, 'AttrStatus': 4133, 'Province': '', 'City': '', 'Alias': '', 'SnsFlag': 1, 'UniFriend': 0, 'DisplayName': '', 'ChatRoomId': 0, 'KeyWord': '', 'EncryChatRoomId': '', 'IsOwner': 0}>, 'Type': 'Text', 'Text': 'u'}\n",
      "False\n",
      "False\n",
      "False\n",
      "False\n",
      "False\n"
     ]
    }
   ],
   "source": [
    "# 如果我实在是无法get到msg,那么如果我可以get到msg.Content也是可以啊\n",
    "# 可以定义一个函数如下：\n",
    "import copy\n",
    "\n",
    "\n",
    "# ----------------------------\n",
    "def get_list(l=[''], s=[0]):\n",
    "    @itchat.msg_register([TEXT, MAP, CARD, NOTE, SHARING, PICTURE, RECORDING, ATTACHMENT, VIDEO])\n",
    "    def reply(msg):\n",
    "        l[0] = msg\n",
    "        s[0] =s[0]+ 1\n",
    "        return \n",
    "    return l[0],s[0]\n",
    "\n",
    "count_n = 0\n",
    "def get_content(l, s):\n",
    "    global count_n\n",
    "    if s == count_n:\n",
    "        count_n += 1\n",
    "        return l\n",
    "    else:\n",
    "        return False\n",
    "# -----------------------------\n",
    "\n",
    "COUNT = 10\n",
    "while COUNT:\n",
    "    l,s = get_list()\n",
    "    print(get_content(l, s))\n",
    "    itchat.configured_reply()  # 动态注册\n",
    "\n",
    "    time.sleep(1)\n",
    "    COUNT -=1"
   ]
  },
  {
   "cell_type": "code",
   "execution_count": 63,
   "metadata": {},
   "outputs": [
    {
     "name": "stdout",
     "output_type": "stream",
     "text": [
      "笔记功能已打开!\n"
     ]
    }
   ],
   "source": [
    "\n",
    "name_list = ['被冻结的光','光', '岑']\n",
    "userNames = get_userName(*name_list)\n",
    "\n",
    "def note_switch(content):\n",
    "    global init_note, note, note_on, mode_choise, mode, record_en, record_es\n",
    "    mode_choise,mode, record_en, record_es = False,'','',''\n",
    "    if content == 'open note':\n",
    "        note_on = True\n",
    "        init_note = True\n",
    "\n",
    "    elif content == 'close note':\n",
    "        note_on = False\n",
    "        \n",
    "    else:\n",
    "        note_on = None\n",
    "        init_note = None\n",
    "        \n",
    "\n",
    "def note_response(content, nickname):\n",
    "    global init_note, note, note_on, mode_choise, mode, record_en, record_es\n",
    "    if note_on:\n",
    "        # ------------------- initial notebook --------------------start\n",
    "        print('笔记功能已打开!')\n",
    "        if init_note:\n",
    "            \n",
    "            note = Mynote(nickname)\n",
    "            try:\n",
    "                note.load()\n",
    "            except:\n",
    "                print('No dictionary data was imported')\n",
    "            disp_mode = [' Record ', ' Review ']\n",
    "            mode_choise = True\n",
    "            init_note = False\n",
    "            return '笔记功能已打开! \\n 1:进入记录模式\\n 2:进入回顾模式\\n 0:退出'\n",
    "        # ------------------- initial notebook ---------------------end  \n",
    "        \n",
    "        # ------------------- mode choise --------------------start \n",
    "        elif mode_choise:\n",
    "            mode_choise = False\n",
    "            print('--------------')\n",
    "            if content == 1:\n",
    "                mode = 'record'\n",
    "                return '****** Record *******\\n English :1 \\n Inspiration :2\\n back :0'\n",
    "            elif content == '2':\n",
    "                mode = 'review'\n",
    "                return '****** Review *******\\n English :1 \\n Inspiration :2\\n back :0'\n",
    "            elif content == '0':\n",
    "                note_on = False\n",
    "            else:\n",
    "                return 'invalid input, please try again'\n",
    "        # ------------------- mode choise --------------------end\n",
    "        \n",
    "        # -------------------  record mode --------------------start\n",
    "        elif mode == 'record':\n",
    "            if content == '1': # English\n",
    "                record_en = True\n",
    "                return 'pls input your words follow, separated from\",\"'\n",
    "            elif content == '2': # Inspiration\n",
    "                record_es = True\n",
    "                return 'pls input your inspiration here'\n",
    "            elif content == '0':\n",
    "                mode_choise = True\n",
    "                return '1:进入记录模式\\n 2:进入回顾模式\\n 0:退出'\n",
    "            else:\n",
    "                return '****** Record *******\\n English :1 \\n Inspiration :2\\n back :0'\n",
    "            \n",
    "            if record_en:\n",
    "                record_en = False\n",
    "                answer = tuple(content)\n",
    "                note.english(answer[0], answer[1])\n",
    "                return '****** Record *******\\n English :1 \\n Inspiration :2\\n back :0'\n",
    "            if record_es:\n",
    "                record_es = False\n",
    "                note.essay(content)\n",
    "                return '****** Record *******\\n English :1 \\n Inspiration :2\\n back :0'\n",
    "            \n",
    "        # -------------------  record mode --------------------end\n",
    "        \n",
    "        # -------------------  review mode --------------------start\n",
    "        elif mode == 'review':\n",
    "            if content == '1': # English\n",
    "                review_en = True\n",
    "            elif content == '2': # Inspiration\n",
    "                review_es = True\n",
    "            elif content == '0':\n",
    "                mode_choise = True\n",
    "                return '1:进入记录模式\\n 2:进入回顾模式\\n 0:退出'\n",
    "            else:\n",
    "                return '****** Review *******\\n English :1 \\n Inspiration :2\\n back :0'\n",
    "            \n",
    "            if review_en:\n",
    "                pass\n",
    "            if review_en:\n",
    "                pass\n",
    "        # -------------------  review mode --------------------end\n",
    "        \n",
    "        \n",
    "            \n",
    "        \n",
    "    if note_on == False:\n",
    "        note.save()\n",
    "        print('笔记功能已关闭！')\n",
    "        return '笔记功能已关闭！'\n",
    "    \n",
    "\n",
    "\n",
    "def specify_reply(msg, userNames):\n",
    "    '''Only reply to people in userNames '''\n",
    "    if msg == None:\n",
    "        return\n",
    "    if msg.user.UserName in list(userNames.values()):\n",
    "        \n",
    "        content = msg.Content\n",
    "        note_switch(content)\n",
    "        # xx_switch(content)\n",
    "\n",
    "        if note_on==True or note_on == False:\n",
    "            response = note_response(content, msg.user.NickName)\n",
    "        else :\n",
    "            response = None\n",
    "            \n",
    "        msg.user.send(response)\n",
    "        \n",
    "def reply_register():\n",
    "\n",
    "    @itchat.msg_register([TEXT, MAP, CARD, NOTE, SHARING, PICTURE, RECORDING, ATTACHMENT, VIDEO])\n",
    "    def reply(msg):\n",
    "        \n",
    "        specify_reply(msg, userNames)\n",
    "        \n",
    "        return \n",
    "\n",
    "    \n",
    "    \n",
    "COUNT = 10\n",
    "while COUNT:\n",
    "    \n",
    "    reply_register()\n",
    "    \n",
    "    time.sleep(1)\n",
    "    itchat.configured_reply()  # 动态注册\n",
    "    \n",
    "    COUNT -= 1"
   ]
  },
  {
   "cell_type": "code",
   "execution_count": 122,
   "metadata": {},
   "outputs": [
    {
     "data": {
      "text/plain": [
       "True"
      ]
     },
     "execution_count": 122,
     "metadata": {},
     "output_type": "execute_result"
    }
   ],
   "source": [
    "init_note"
   ]
  },
  {
   "cell_type": "code",
   "execution_count": 116,
   "metadata": {},
   "outputs": [
    {
     "data": {
      "text/plain": [
       "True"
      ]
     },
     "execution_count": 116,
     "metadata": {},
     "output_type": "execute_result"
    }
   ],
   "source": [
    "init_note"
   ]
  },
  {
   "cell_type": "code",
   "execution_count": null,
   "metadata": {},
   "outputs": [],
   "source": []
  },
  {
   "cell_type": "code",
   "execution_count": 103,
   "metadata": {},
   "outputs": [],
   "source": [
    "def g():\n",
    "    \n",
    "    def f(x):\n",
    "        global zzz\n",
    "        zzz = x\n",
    "        return\n",
    "    f(10)\n",
    "    def s():\n",
    "        print(zzz)\n",
    "    s()\n"
   ]
  },
  {
   "cell_type": "code",
   "execution_count": 104,
   "metadata": {},
   "outputs": [
    {
     "name": "stdout",
     "output_type": "stream",
     "text": [
      "10\n"
     ]
    }
   ],
   "source": [
    "g()"
   ]
  },
  {
   "cell_type": "code",
   "execution_count": 92,
   "metadata": {},
   "outputs": [
    {
     "data": {
      "text/latex": [
       "$\\displaystyle 10$"
      ],
      "text/plain": [
       "10"
      ]
     },
     "execution_count": 92,
     "metadata": {},
     "output_type": "execute_result"
    }
   ],
   "source": [
    "XXX"
   ]
  },
  {
   "cell_type": "code",
   "execution_count": 88,
   "metadata": {},
   "outputs": [],
   "source": [
    "def s():\n",
    "    print(XXX)"
   ]
  },
  {
   "cell_type": "code",
   "execution_count": 89,
   "metadata": {},
   "outputs": [
    {
     "name": "stdout",
     "output_type": "stream",
     "text": [
      "5\n"
     ]
    }
   ],
   "source": [
    "s()"
   ]
  },
  {
   "cell_type": "code",
   "execution_count": null,
   "metadata": {},
   "outputs": [],
   "source": []
  }
 ],
 "metadata": {
  "kernelspec": {
   "display_name": "Python [conda env:wechat]",
   "language": "python",
   "name": "conda-env-wechat-py"
  },
  "language_info": {
   "codemirror_mode": {
    "name": "ipython",
    "version": 3
   },
   "file_extension": ".py",
   "mimetype": "text/x-python",
   "name": "python",
   "nbconvert_exporter": "python",
   "pygments_lexer": "ipython3",
   "version": "3.6.9"
  }
 },
 "nbformat": 4,
 "nbformat_minor": 4
}
