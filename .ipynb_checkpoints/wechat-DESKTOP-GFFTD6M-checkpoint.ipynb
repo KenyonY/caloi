{
 "cells": [
  {
   "cell_type": "markdown",
   "metadata": {},
   "source": [
    "# Begin"
   ]
  },
  {
   "cell_type": "code",
   "execution_count": 1,
   "metadata": {},
   "outputs": [
    {
     "name": "stdout",
     "output_type": "stream",
     "text": [
      "█\r"
     ]
    }
   ],
   "source": [
    "import itchat\n",
    "from itchat.content import *\n",
    "import time\n",
    "# import jieba\n",
    "itchat.auto_login(hotReload=True)"
   ]
  },
  {
   "cell_type": "code",
   "execution_count": 2,
   "metadata": {},
   "outputs": [],
   "source": [
    "'''name：给friend的注释名， nickName：friend本身昵称\n",
    "因为nickName会更容易变化，所以检索时更多使用name.\n",
    "当我们对好友进行了备注时，name = remarkName\n",
    "当未对好友备注时， name = nickName\n",
    "而对于固定的人们，我们直接使用几乎永久不变的UserName来寻找\n",
    "'''\n",
    "name = \"光\" "
   ]
  },
  {
   "cell_type": "code",
   "execution_count": 3,
   "metadata": {},
   "outputs": [
    {
     "data": {
      "text/plain": [
       "<User: {'MemberList': <ContactList: []>, 'Uin': 0, 'UserName': '@38d366dc708cfb9ba55aed1ba6acb085bd9927c2be3bbc7b47a6a743e72ce7d1', 'NickName': '光', 'HeadImgUrl': '/cgi-bin/mmwebwx-bin/webwxgeticon?seq=696770632&username=@38d366dc708cfb9ba55aed1ba6acb085bd9927c2be3bbc7b47a6a743e72ce7d1&skey=@crypt_d43c5d55_6b51fc97bb533ab1036c628c8e80864d', 'ContactFlag': 3, 'MemberCount': 0, 'RemarkName': '', 'HideInputBarFlag': 0, 'Sex': 0, 'Signature': '', 'VerifyFlag': 0, 'OwnerUin': 0, 'PYInitial': 'G', 'PYQuanPin': 'guang', 'RemarkPYInitial': '', 'RemarkPYQuanPin': '', 'StarFriend': 0, 'AppAccountFlag': 0, 'Statues': 0, 'AttrStatus': 4133, 'Province': '', 'City': '', 'Alias': '', 'SnsFlag': 1, 'UniFriend': 0, 'DisplayName': '', 'ChatRoomId': 0, 'KeyWord': '', 'EncryChatRoomId': '', 'IsOwner': 0}>"
      ]
     },
     "execution_count": 3,
     "metadata": {},
     "output_type": "execute_result"
    }
   ],
   "source": [
    "guang = itchat.search_friends(name)\n",
    "guang[0]"
   ]
  },
  {
   "cell_type": "code",
   "execution_count": 4,
   "metadata": {},
   "outputs": [],
   "source": [
    "def get_all_info():\n",
    "    '''get all my friends' information ''' \n",
    "    nickNames = []\n",
    "    \n",
    "    for friend in itchat.get_friends():\n",
    "        nickNames.append(friend.NickName)\n",
    "        pass\n",
    "    "
   ]
  },
  {
   "cell_type": "code",
   "execution_count": 5,
   "metadata": {},
   "outputs": [],
   "source": [
    "import pickle\n",
    "from mynote import *\n",
    "\n",
    "\n",
    "def get_userName(*name_list):\n",
    "    UserNames = {}\n",
    "    for name in name_list:\n",
    "        friends = itchat.search_friends(name=name)\n",
    "        if len(friends) == 1:\n",
    "            UserNames[name] = friends[0].UserName\n",
    "        else:\n",
    "            print(f'name: “{name}” is NOT unique')\n",
    "            raise ''\n",
    "    return UserNames\n",
    "\n",
    "\n",
    "def save_userName():\n",
    "    name_list = ['爸爸', '妈妈', '姐姐', \n",
    "             '被冻结的光', '岑', 'hyeves','歪歪', '张丛','光']\n",
    "    userNames = get_userName(*name_list)\n",
    "    with open('userNames.pkl', 'wb') as fo:\n",
    "        pickle.dump(userNames, fo)\n",
    "        \n",
    "def load_userName():\n",
    "    with open('userNames.pkl', 'rb') as fi:\n",
    "        userNames = pickle.load(fi)\n",
    "\n",
    "# userNames = get_userName(*name_list)\n",
    "\n",
    "guang = itchat.search_friends(userName= get_userName('光')['光'])"
   ]
  },
  {
   "cell_type": "markdown",
   "metadata": {},
   "source": [
    "msg.user 就是itchat.search_friends()的结果。  \n",
    "它们使用.send()发送消息。  \n"
   ]
  },
  {
   "cell_type": "code",
   "execution_count": 6,
   "metadata": {},
   "outputs": [
    {
     "data": {
      "text/plain": [
       "['@33986433b69e490563aeeec695b9a7ae',\n",
       " '@38d366dc708cfb9ba55aed1ba6acb085bd9927c2be3bbc7b47a6a743e72ce7d1']"
      ]
     },
     "execution_count": 6,
     "metadata": {},
     "output_type": "execute_result"
    }
   ],
   "source": [
    "name_list = ['被冻结的光','光']\n",
    "userNames = get_userName(*name_list)\n",
    "list(userNames.values())"
   ]
  },
  {
   "cell_type": "code",
   "execution_count": 7,
   "metadata": {},
   "outputs": [
    {
     "ename": "SyntaxError",
     "evalue": "invalid syntax (<ipython-input-7-4e3cde8ddef3>, line 43)",
     "output_type": "error",
     "traceback": [
      "\u001b[1;36m  File \u001b[1;32m\"<ipython-input-7-4e3cde8ddef3>\"\u001b[1;36m, line \u001b[1;32m43\u001b[0m\n\u001b[1;33m    <User: {'MemberList': <ContactList: []>,\u001b[0m\n\u001b[1;37m    ^\u001b[0m\n\u001b[1;31mSyntaxError\u001b[0m\u001b[1;31m:\u001b[0m invalid syntax\n"
     ]
    }
   ],
   "source": [
    "{'MsgId': '6845928623653634259',\n",
    "'FromUserName': '@2f2aaf49796d4d85979c19b8016568e758cef562ff4e0a537eba9b096e4c96aa', \n",
    "'ToUserName': '@33cc6638055ee7333829759ae6b162cc', \n",
    "'MsgType': 1, \n",
    "'Content': '5', \n",
    "'Status': 3, \n",
    "'ImgStatus': 1, \n",
    "'CreateTime': 1569347469, \n",
    "'VoiceLength': 0, \n",
    "'PlayLength': 0, \n",
    "'FileName': '', \n",
    "'FileSize': '', \n",
    "'MediaId': '', \n",
    "'Url': '', \n",
    "'AppMsgType': 0, \n",
    "'StatusNotifyCode': 0, \n",
    "'StatusNotifyUserName': '', \n",
    "'RecommendInfo': {'UserName': '', \n",
    "                 'NickName': '', \n",
    "                 'QQNum': 0, \n",
    "                 'Province': '', \n",
    "                 'City': '', \n",
    "                 'Content': '', \n",
    "                 'Signature': '', \n",
    "                 'Alias': '', \n",
    "                 'Scene': 0, \n",
    "                 'VerifyFlag': 0, \n",
    "                 'AttrStatus': 0, \n",
    "                 'Sex': 0, \n",
    "                 'Ticket': '', \n",
    "                 'OpCode': 0 }, \n",
    "'ForwardFlag': 0, \n",
    "'AppInfo': {'AppID': '', 'Type': 0}, \n",
    "'HasProductId': 0, \n",
    "'Ticket': '', \n",
    "'ImgHeight': 0, \n",
    "'ImgWidth': 0, \n",
    "'SubMsgType': 0, \n",
    "'NewMsgId': 6845928623653634259, \n",
    "'OriContent': '', \n",
    "'EncryFileName': '', \n",
    "'User': \n",
    "     <User: {'MemberList': <ContactList: []>, \n",
    "    'Uin': 0, \n",
    "    'UserName': '@2f2aaf49796d4d85979c19b8016568e758cef562ff4e0a537eba9b096e4c96aa', \n",
    "    'NickName': '光', \n",
    "    'HeadImgUrl': '/cgi-bin/mmwebwx-bin/webwxgeticon?seq=696770632&username=@2f2aaf49796d4d85979c19b8016568e758cef562ff4e0a537eba9b096e4c96aa&skey=@crypt_d43c5d55_b03c661aff07536407bf8ebdd19e90cb', \n",
    "    'ContactFlag': 3, \n",
    "    'MemberCount': 0, \n",
    "    'RemarkName': '', \n",
    "    'HideInputBarFlag': 0, \n",
    "    'Sex': 0, 'Signature': '', \n",
    "    'VerifyFlag': 0, \n",
    "    'OwnerUin': 0, \n",
    "    'PYInitial': 'G', \n",
    "    'PYQuanPin': 'guang', \n",
    "    'RemarkPYInitial': '', \n",
    "    'RemarkPYQuanPin': '', \n",
    "    'StarFriend': 0, \n",
    "    'AppAccountFlag': 0, \n",
    "    'Statues': 0, \n",
    "    'AttrStatus': 4133, 'Province': '', 'City': '', 'Alias': '', 'SnsFlag': 1, 'UniFriend': 0, 'DisplayName': '', 'ChatRoomId': 0, 'KeyWord': '', 'EncryChatRoomId': '', 'IsOwner': 0}\n",
    "     >,\n",
    " 'Type': 'Text', \n",
    " 'Text': '5'}"
   ]
  },
  {
   "cell_type": "code",
   "execution_count": 8,
   "metadata": {},
   "outputs": [
    {
     "data": {
      "text/plain": [
       "{'光': '@38d366dc708cfb9ba55aed1ba6acb085bd9927c2be3bbc7b47a6a743e72ce7d1'}"
      ]
     },
     "execution_count": 8,
     "metadata": {},
     "output_type": "execute_result"
    }
   ],
   "source": [
    "get_userName('光')"
   ]
  },
  {
   "cell_type": "markdown",
   "metadata": {},
   "source": [
    "# Action"
   ]
  },
  {
   "cell_type": "code",
   "execution_count": 6,
   "metadata": {},
   "outputs": [],
   "source": [
    "\n",
    "def get_list(lis=[''], count=[0]):\n",
    "    '''get msg list and count'''\n",
    "    @itchat.msg_register([TEXT, MAP, CARD, NOTE, SHARING, PICTURE, RECORDING, ATTACHMENT, VIDEO])\n",
    "    def reply(msg):\n",
    "        lis[0] = msg\n",
    "        count[0] =count[0]+ 1\n",
    "        return \n",
    "    return lis[0],count[0]\n",
    "\n",
    "count_n = 0\n",
    "def get_content(l, count):\n",
    "    global count_n\n",
    "    if count == count_n:\n",
    "        count_n += 1\n",
    "        return l\n",
    "    else:\n",
    "        return False\n",
    "\n",
    "def get_msg():\n",
    "#     global = count_n\n",
    "    l, count = get_list()\n",
    "    message = get_content(l, count)\n",
    "    if message:\n",
    "        return message\n",
    "    else:\n",
    "        return None\n",
    "\n",
    "def dynamic_msg():\n",
    "    '''Dynamic acquisition of message'''\n",
    "    while 1:\n",
    "        msg = get_msg()\n",
    "        if msg == None:\n",
    "            time.sleep(.6)\n",
    "            itchat.configured_reply()\n",
    "            continue\n",
    "        else:\n",
    "            return msg\n",
    "        \n",
    "\n",
    "\n",
    "\n",
    "# def intercept_release(userName):\n",
    "#     '''intercept userName and reply\n",
    "#     release other message\n",
    "#     '''\n",
    "#     while 1:\n",
    "#         itchat.configured_reply()\n",
    "#         msg = get_msg()\n",
    "#         if msg !=None:\n",
    "#             if msg.user.userName == userName:\n",
    "#                 mode = recordOrReview(msg.Content)\n",
    "#                 msg.user.send(msg.Content)\n",
    "                \n",
    "#             else:\n",
    "#                 print(f'不是{userName}，这个循环退出')\n",
    "#                 return msg\n",
    "        \n",
    "#         time.sleep(1)\n",
    "#         itchat.configured_reply()\n",
    "        \n",
    "\n"
   ]
  },
  {
   "cell_type": "code",
   "execution_count": 7,
   "metadata": {},
   "outputs": [],
   "source": [
    "a={'0':['as']}\n"
   ]
  },
  {
   "cell_type": "code",
   "execution_count": 8,
   "metadata": {},
   "outputs": [
    {
     "data": {
      "text/plain": [
       "'as'"
      ]
     },
     "execution_count": 8,
     "metadata": {},
     "output_type": "execute_result"
    }
   ],
   "source": [
    "a['0'][-1]"
   ]
  },
  {
   "cell_type": "code",
   "execution_count": 22,
   "metadata": {},
   "outputs": [
    {
     "name": "stdout",
     "output_type": "stream",
     "text": [
      "record\n",
      "llalla\n"
     ]
    }
   ],
   "source": [
    "\n",
    "def note_interaction(msg, note={}, user_dict={}):\n",
    "    \n",
    "        userName = msg.user.userName\n",
    "\n",
    "        # ------- initial notebook ---------\n",
    "        \n",
    "        note.setdefault(msg.user.NickName, Mynote(msg.user.NickName))\n",
    "        try:\n",
    "            note[msg.user.NickName].load()\n",
    "        except:\n",
    "            print('No dictionary data was imported')\n",
    "        msg.user.send('Initialization complete')\n",
    "        mode_str = '进入记录模式press 1, 进入回顾模式press 2, 退出press 0'\n",
    "        msg.user.send(mode_str)\n",
    "        # ----------------------------------\n",
    "        msg = dynamic_msg()\n",
    "        \n",
    "        user_dict.setdefault(msg.user.userName, [])\n",
    "        mode1 = {'0':'0', '1':'record', '2':'review'}\n",
    "        def try_recur(msg, string, mode):\n",
    "            try:\n",
    "                user_dict[msg.user.userName].append(mode[msg.Content])\n",
    "                return msg\n",
    "            except:\n",
    "                msg.user.send('please try again')\n",
    "                msg.user.send(string)\n",
    "                msg = dynamic_msg()\n",
    "                try_recur(msg, string, mode)\n",
    "                \n",
    "        msg = try_recur(msg, mode_str, mode1)\n",
    "        # sample: user_dict{'光':['record']}\n",
    "        def mode_recur(msg):\n",
    "#             print(user_dict[msg.user.userName][-1])\n",
    "            if user_dict[msg.user.userName] == []:\n",
    "                return \n",
    "            elif user_dict[msg.user.userName][-1] == 'record':\n",
    "                record_str = '****** Record *******\\n English :1 \\n Inspiration :2\\n back :0'\n",
    "                mode2 = {'0':'0', '1':'english', '2':'inspiration'}\n",
    "                msg.user.send(record_str)\n",
    "                msg = dynamic_msg()\n",
    "                msg = try_recur(msg, record_str, mode2)\n",
    "            \n",
    "            elif user_dict[msg.user.userName][-1] == 'review':\n",
    "                pass\n",
    "            elif user_dict[msg.user.userName][-1] == 'english':\n",
    "                pass\n",
    "            elif user_dict[msg.user.userName][-1] == 'inspiration':\n",
    "                pass\n",
    "            \n",
    "            elif user_dict[msg.user.userName][-1] == '0':\n",
    "                user_dict[msg.user.userName].pop()\n",
    "                return mode_recur()\n",
    "        mode_recur(msg)\n",
    "        \n",
    "\n",
    "\n",
    "    \n",
    "\n",
    "msg = dynamic_msg()\n",
    "if msg.Content == 'note':\n",
    "    msg = note_interaction(msg)\n"
   ]
  },
  {
   "cell_type": "code",
   "execution_count": 65,
   "metadata": {},
   "outputs": [
    {
     "name": "stdout",
     "output_type": "stream",
     "text": [
      "笔记功能已打开!\n"
     ]
    }
   ],
   "source": [
    "\n",
    "name_list = ['被冻结的光','光', '岑']\n",
    "userNames = get_userName(*name_list)\n",
    "\n",
    "def note_switch(content):\n",
    "    global init_note, note, note_on, mode_choise, mode, record_en, record_es\n",
    "    mode_choise,mode, record_en, record_es = False,'','',''\n",
    "    if content == 'open note':\n",
    "        note_on = True\n",
    "        init_note = True\n",
    "\n",
    "    elif content == 'close note':\n",
    "        note_on = False\n",
    "        \n",
    "    else:\n",
    "        note_on = None\n",
    "        init_note = None\n",
    "        \n",
    "\n",
    "def note_response(content, nickname):\n",
    "    global init_note, note, note_on, mode_choise, mode, record_en, record_es\n",
    "    if note_on:\n",
    "        # ------------------- initial notebook --------------------start\n",
    "        print('笔记功能已打开!')\n",
    "        if init_note:\n",
    "            \n",
    "            note = Mynote(nickname)\n",
    "            try:\n",
    "                note.load()\n",
    "            except:\n",
    "                print('No dictionary data was imported')\n",
    "            disp_mode = [' Record ', ' Review ']\n",
    "            mode_choise = True\n",
    "            init_note = False\n",
    "            return '笔记功能已打开! \\n 1:进入记录模式\\n 2:进入回顾模式\\n 0:退出'\n",
    "        # ------------------- initial notebook ---------------------end  \n",
    "        \n",
    "        # ------------------- mode choise --------------------start \n",
    "        elif mode_choise:\n",
    "            mode_choise = False\n",
    "            print('--------------')\n",
    "            if content == 1:\n",
    "                mode = 'record'\n",
    "                return '****** Record *******\\n English :1 \\n Inspiration :2\\n back :0'\n",
    "            elif content == '2':\n",
    "                mode = 'review'\n",
    "                return '****** Review *******\\n English :1 \\n Inspiration :2\\n back :0'\n",
    "            elif content == '0':\n",
    "                note_on = False\n",
    "            else:\n",
    "                return 'invalid input, please try again'\n",
    "        # ------------------- mode choise --------------------end\n",
    "        \n",
    "        # -------------------  record mode --------------------start\n",
    "        elif mode == 'record':\n",
    "            if content == '1': # English\n",
    "                record_en = True\n",
    "                return 'pls input your words follow, separated from\",\"'\n",
    "            elif content == '2': # Inspiration\n",
    "                record_es = True\n",
    "                return 'pls input your inspiration here'\n",
    "            elif content == '0':\n",
    "                mode_choise = True\n",
    "                return '1:进入记录模式\\n 2:进入回顾模式\\n 0:退出'\n",
    "            else:\n",
    "                return '****** Record *******\\n English :1 \\n Inspiration :2\\n back :0'\n",
    "            \n",
    "            if record_en:\n",
    "                record_en = False\n",
    "                answer = tuple(content)\n",
    "                note.english(answer[0], answer[1])\n",
    "                return '****** Record *******\\n English :1 \\n Inspiration :2\\n back :0'\n",
    "            if record_es:\n",
    "                record_es = False\n",
    "                note.essay(content)\n",
    "                return '****** Record *******\\n English :1 \\n Inspiration :2\\n back :0'\n",
    "            \n",
    "        # -------------------  record mode --------------------end\n",
    "        \n",
    "        # -------------------  review mode --------------------start\n",
    "        elif mode == 'review':\n",
    "            if content == '1': # English\n",
    "                review_en = True\n",
    "            elif content == '2': # Inspiration\n",
    "                review_es = True\n",
    "            elif content == '0':\n",
    "                mode_choise = True\n",
    "                return '1:进入记录模式\\n 2:进入回顾模式\\n 0:退出'\n",
    "            else:\n",
    "                return '****** Review *******\\n English :1 \\n Inspiration :2\\n back :0'\n",
    "            \n",
    "            if review_en:\n",
    "                pass\n",
    "            if review_en:\n",
    "                pass\n",
    "        # -------------------  review mode --------------------end\n",
    "        \n",
    "        \n",
    "            \n",
    "        \n",
    "    elif note_on == False:\n",
    "        note.save()\n",
    "        print('笔记功能已关闭！')\n",
    "        return '笔记功能已关闭！'\n",
    "    \n",
    "\n",
    "\n",
    "def specify_reply(msg, userNames):\n",
    "    '''Only reply to people in userNames '''\n",
    "    if msg == None:\n",
    "        return\n",
    "    if msg.user.UserName in list(userNames.values()):\n",
    "        \n",
    "        content = msg.Content\n",
    "        note_switch(content)\n",
    "        # xx_switch(content)\n",
    "\n",
    "        if note_on==True or note_on == False:\n",
    "            response = note_response(content, msg.user.NickName)\n",
    "        else :\n",
    "            response = None\n",
    "            \n",
    "        msg.user.send(response)\n",
    "        \n",
    "def reply_register():\n",
    "\n",
    "    @itchat.msg_register([TEXT, MAP, CARD, NOTE, SHARING, PICTURE, RECORDING, ATTACHMENT, VIDEO])\n",
    "    def reply(msg):\n",
    "        \n",
    "        specify_reply(msg, userNames)\n",
    "        \n",
    "        return \n",
    "\n",
    "    \n",
    "    \n",
    "COUNT = 10\n",
    "while COUNT:\n",
    "    \n",
    "    reply_register()\n",
    "    \n",
    "    time.sleep(1)\n",
    "    itchat.configured_reply()  # 动态注册\n",
    "    \n",
    "    COUNT -= 1"
   ]
  },
  {
   "cell_type": "code",
   "execution_count": 122,
   "metadata": {},
   "outputs": [
    {
     "data": {
      "text/plain": [
       "True"
      ]
     },
     "execution_count": 122,
     "metadata": {},
     "output_type": "execute_result"
    }
   ],
   "source": [
    "init_note"
   ]
  },
  {
   "cell_type": "code",
   "execution_count": 116,
   "metadata": {},
   "outputs": [
    {
     "data": {
      "text/plain": [
       "True"
      ]
     },
     "execution_count": 116,
     "metadata": {},
     "output_type": "execute_result"
    }
   ],
   "source": [
    "init_note"
   ]
  },
  {
   "cell_type": "code",
   "execution_count": null,
   "metadata": {},
   "outputs": [],
   "source": []
  },
  {
   "cell_type": "code",
   "execution_count": 103,
   "metadata": {},
   "outputs": [],
   "source": [
    "def g():\n",
    "    \n",
    "    def f(x):\n",
    "        global zzz\n",
    "        zzz = x\n",
    "        return\n",
    "    f(10)\n",
    "    def s():\n",
    "        print(zzz)\n",
    "    s()\n"
   ]
  },
  {
   "cell_type": "code",
   "execution_count": 104,
   "metadata": {},
   "outputs": [
    {
     "name": "stdout",
     "output_type": "stream",
     "text": [
      "10\n"
     ]
    }
   ],
   "source": [
    "g()"
   ]
  },
  {
   "cell_type": "code",
   "execution_count": 92,
   "metadata": {},
   "outputs": [
    {
     "data": {
      "text/latex": [
       "$\\displaystyle 10$"
      ],
      "text/plain": [
       "10"
      ]
     },
     "execution_count": 92,
     "metadata": {},
     "output_type": "execute_result"
    }
   ],
   "source": [
    "XXX"
   ]
  },
  {
   "cell_type": "code",
   "execution_count": 88,
   "metadata": {},
   "outputs": [],
   "source": [
    "def s():\n",
    "    print(XXX)"
   ]
  },
  {
   "cell_type": "code",
   "execution_count": 89,
   "metadata": {},
   "outputs": [
    {
     "name": "stdout",
     "output_type": "stream",
     "text": [
      "5\n"
     ]
    }
   ],
   "source": [
    "s()"
   ]
  },
  {
   "cell_type": "code",
   "execution_count": null,
   "metadata": {},
   "outputs": [],
   "source": []
  }
 ],
 "metadata": {
  "kernelspec": {
   "display_name": "Python [conda env:wechat]",
   "language": "python",
   "name": "conda-env-wechat-py"
  },
  "language_info": {
   "codemirror_mode": {
    "name": "ipython",
    "version": 3
   },
   "file_extension": ".py",
   "mimetype": "text/x-python",
   "name": "python",
   "nbconvert_exporter": "python",
   "pygments_lexer": "ipython3",
   "version": "3.6.9"
  }
 },
 "nbformat": 4,
 "nbformat_minor": 4
}
