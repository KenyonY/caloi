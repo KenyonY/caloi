{
 "cells": [
  {
   "cell_type": "code",
   "execution_count": 1,
   "metadata": {},
   "outputs": [
    {
     "name": "stdout",
     "output_type": "stream",
     "text": [
      "█\r"
     ]
    }
   ],
   "source": [
    "import itchat\n",
    "from itchat.content import *\n",
    "import time\n",
    "# import jieba"
   ]
  },
  {
   "cell_type": "code",
   "execution_count": 14,
   "metadata": {},
   "outputs": [],
   "source": [
    "itchat.auto_login(hotReload=True)"
   ]
  },
  {
   "cell_type": "code",
   "execution_count": 15,
   "metadata": {},
   "outputs": [],
   "source": [
    "'''name：给friend的注释名， nickName：friend本身昵称\n",
    "因为nickName会更容易变化，所以检索时更多使用name.\n",
    "当我们对好友进行了备注时，name = remarkName\n",
    "当未对好友备注时， name = nickName\n",
    "而对于固定的人们，我们直接使用几乎永久不变的UserName来寻找\n",
    "'''\n",
    "name = \"光\" "
   ]
  },
  {
   "cell_type": "code",
   "execution_count": 16,
   "metadata": {},
   "outputs": [
    {
     "data": {
      "text/plain": [
       "<User: {'MemberList': <ContactList: []>, 'Uin': 0, 'UserName': '@b9dea9e19603ae246ee5d3c22a3af49124edc3e4c44f5c3bf02633bec3c098e7', 'NickName': '光', 'HeadImgUrl': '/cgi-bin/mmwebwx-bin/webwxgeticon?seq=696770632&username=@b9dea9e19603ae246ee5d3c22a3af49124edc3e4c44f5c3bf02633bec3c098e7&skey=@crypt_d43c5d55_b7c58004ae4c0c1f0292e0b126640c31', 'ContactFlag': 3, 'MemberCount': 0, 'RemarkName': '', 'HideInputBarFlag': 0, 'Sex': 0, 'Signature': '', 'VerifyFlag': 0, 'OwnerUin': 0, 'PYInitial': 'G', 'PYQuanPin': 'guang', 'RemarkPYInitial': '', 'RemarkPYQuanPin': '', 'StarFriend': 0, 'AppAccountFlag': 0, 'Statues': 0, 'AttrStatus': 4133, 'Province': '', 'City': '', 'Alias': '', 'SnsFlag': 1, 'UniFriend': 0, 'DisplayName': '', 'ChatRoomId': 0, 'KeyWord': '', 'EncryChatRoomId': '', 'IsOwner': 0}>"
      ]
     },
     "execution_count": 16,
     "metadata": {},
     "output_type": "execute_result"
    }
   ],
   "source": [
    "guang = itchat.search_friends(name)\n",
    "guang[0]"
   ]
  },
  {
   "cell_type": "code",
   "execution_count": 17,
   "metadata": {},
   "outputs": [],
   "source": [
    "def get_all_info():\n",
    "    '''get all my friends' information ''' \n",
    "    nickNames = []\n",
    "    \n",
    "    for friend in itchat.get_friends():\n",
    "        nickNames.append(friend.NickName)\n",
    "        pass\n",
    "    "
   ]
  },
  {
   "cell_type": "code",
   "execution_count": 3,
   "metadata": {},
   "outputs": [],
   "source": [
    "import pickle\n",
    "from mynote import *\n",
    "\n",
    "\n",
    "def get_userName(*name_list):\n",
    "    UserNames = {}\n",
    "    for name in name_list:\n",
    "        friends = itchat.search_friends(name=name)\n",
    "        if len(friends) == 1:\n",
    "            UserNames[name] = friends[0].UserName\n",
    "        else:\n",
    "            print(f'name: “{name}” is NOT unique')\n",
    "            raise ''\n",
    "    return UserNames\n",
    "\n",
    "\n",
    "def save_userName():\n",
    "    name_list = ['爸爸', '妈妈', '姐姐', \n",
    "             '被冻结的光', '岑', 'hyeves','歪歪', '张丛','光']\n",
    "    userNames = get_userName(*name_list)\n",
    "    with open('userNames.pkl', 'wb') as fo:\n",
    "        pickle.dump(userNames, fo)\n",
    "        \n",
    "def load_userName():\n",
    "    with open('userNames.pkl', 'rb') as fi:\n",
    "        userNames = pickle.load(fi)\n",
    "\n",
    "# userNames = get_userName(*name_list)\n",
    "\n",
    "guang = itchat.search_friends(userName= get_userName('光')['光'])"
   ]
  },
  {
   "cell_type": "markdown",
   "metadata": {},
   "source": [
    "msg.user 就是itchat.search_friends()的结果。  \n",
    "它们使用.send()发送消息。  \n"
   ]
  },
  {
   "cell_type": "code",
   "execution_count": 4,
   "metadata": {},
   "outputs": [
    {
     "data": {
      "text/plain": [
       "['@249809b10aeeb3f40a8aae4fbd3b7c4c',\n",
       " '@db02350943593d46ceb1b4700156b643c1b6561c7a928225ae2f47b013b43aca']"
      ]
     },
     "execution_count": 4,
     "metadata": {},
     "output_type": "execute_result"
    }
   ],
   "source": [
    "name_list = ['被冻结的光','光']\n",
    "userNames = get_userName(*name_list)\n",
    "list(userNames.values())"
   ]
  },
  {
   "cell_type": "code",
   "execution_count": 18,
   "metadata": {},
   "outputs": [
    {
     "name": "stdout",
     "output_type": "stream",
     "text": [
      "10\n",
      "9\n",
      "8\n",
      "7\n",
      "6\n",
      "5\n",
      "4\n",
      "3\n",
      "2\n",
      "1\n"
     ]
    },
    {
     "name": "stderr",
     "output_type": "stream",
     "text": [
      "Traceback (most recent call last):\n",
      "  File \"C:\\Users\\Administrator\\AppData\\Roaming\\Python\\Python37\\site-packages\\urllib3\\connectionpool.py\", line 601, in urlopen\n",
      "    chunked=chunked)\n",
      "  File \"C:\\Users\\Administrator\\AppData\\Roaming\\Python\\Python37\\site-packages\\urllib3\\connectionpool.py\", line 387, in _make_request\n",
      "    six.raise_from(e, None)\n",
      "  File \"<string>\", line 2, in raise_from\n",
      "  File \"C:\\Users\\Administrator\\AppData\\Roaming\\Python\\Python37\\site-packages\\urllib3\\connectionpool.py\", line 383, in _make_request\n",
      "    httplib_response = conn.getresponse()\n",
      "  File \"D:\\miniconda\\envs\\mxnet\\lib\\http\\client.py\", line 1336, in getresponse\n",
      "    response.begin()\n",
      "  File \"D:\\miniconda\\envs\\mxnet\\lib\\http\\client.py\", line 306, in begin\n",
      "    version, status, reason = self._read_status()\n",
      "  File \"D:\\miniconda\\envs\\mxnet\\lib\\http\\client.py\", line 275, in _read_status\n",
      "    raise RemoteDisconnected(\"Remote end closed connection without\"\n",
      "http.client.RemoteDisconnected: Remote end closed connection without response\n",
      "\n",
      "During handling of the above exception, another exception occurred:\n",
      "\n",
      "Traceback (most recent call last):\n",
      "  File \"C:\\Users\\Administrator\\AppData\\Roaming\\Python\\Python37\\site-packages\\requests\\adapters.py\", line 440, in send\n",
      "    timeout=timeout\n",
      "  File \"C:\\Users\\Administrator\\AppData\\Roaming\\Python\\Python37\\site-packages\\urllib3\\connectionpool.py\", line 639, in urlopen\n",
      "    _stacktrace=sys.exc_info()[2])\n",
      "  File \"C:\\Users\\Administrator\\AppData\\Roaming\\Python\\Python37\\site-packages\\urllib3\\util\\retry.py\", line 388, in increment\n",
      "    raise MaxRetryError(_pool, url, error or ResponseError(cause))\n",
      "urllib3.exceptions.MaxRetryError: HTTPSConnectionPool(host='webpush.wx.qq.com', port=443): Max retries exceeded with url: /cgi-bin/mmwebwx-bin/synccheck?r=1569246629178&skey=%40crypt_d43c5d55_ce31021c90c2b7ffaf8965153cc74501&sid=nTELU8YAd94k3qky&uin=444738555&deviceid=e510446385855285&synckey=1_696856510%7C2_696856732%7C3_696856474%7C11_696856632%7C201_1569245466%7C203_1569231082%7C206_1%7C1000_1569224886%7C1001_1569225079&_=1569246629178 (Caused by ProxyError('Cannot connect to proxy.', RemoteDisconnected('Remote end closed connection without response')))\n",
      "\n",
      "During handling of the above exception, another exception occurred:\n",
      "\n",
      "Traceback (most recent call last):\n",
      "  File \"D:\\miniconda\\envs\\mxnet\\lib\\site-packages\\itchat\\components\\login.py\", line 303, in sync_check\n",
      "    r = self.s.get(url, params=params, headers=headers, timeout=config.TIMEOUT)\n",
      "  File \"C:\\Users\\Administrator\\AppData\\Roaming\\Python\\Python37\\site-packages\\requests\\sessions.py\", line 521, in get\n",
      "    return self.request('GET', url, **kwargs)\n",
      "  File \"C:\\Users\\Administrator\\AppData\\Roaming\\Python\\Python37\\site-packages\\requests\\sessions.py\", line 508, in request\n",
      "    resp = self.send(prep, **send_kwargs)\n",
      "  File \"C:\\Users\\Administrator\\AppData\\Roaming\\Python\\Python37\\site-packages\\requests\\sessions.py\", line 618, in send\n",
      "    r = adapter.send(request, **kwargs)\n",
      "  File \"C:\\Users\\Administrator\\AppData\\Roaming\\Python\\Python37\\site-packages\\requests\\adapters.py\", line 502, in send\n",
      "    raise ProxyError(e, request=request)\n",
      "requests.exceptions.ProxyError: HTTPSConnectionPool(host='webpush.wx.qq.com', port=443): Max retries exceeded with url: /cgi-bin/mmwebwx-bin/synccheck?r=1569246629178&skey=%40crypt_d43c5d55_ce31021c90c2b7ffaf8965153cc74501&sid=nTELU8YAd94k3qky&uin=444738555&deviceid=e510446385855285&synckey=1_696856510%7C2_696856732%7C3_696856474%7C11_696856632%7C201_1569245466%7C203_1569231082%7C206_1%7C1000_1569224886%7C1001_1569225079&_=1569246629178 (Caused by ProxyError('Cannot connect to proxy.', RemoteDisconnected('Remote end closed connection without response')))\n",
      "\n",
      "During handling of the above exception, another exception occurred:\n",
      "\n",
      "Traceback (most recent call last):\n",
      "  File \"D:\\miniconda\\envs\\mxnet\\lib\\site-packages\\itchat\\components\\login.py\", line 247, in maintain_loop\n",
      "    i = sync_check(self)\n",
      "  File \"D:\\miniconda\\envs\\mxnet\\lib\\site-packages\\itchat\\components\\login.py\", line 306, in sync_check\n",
      "    if not isinstance(e.args[0].args[1], BadStatusLine):\n",
      "IndexError: tuple index out of range\n",
      "\n",
      "LOG OUT!\n",
      "LOG OUT!\n"
     ]
    }
   ],
   "source": [
    "# 如果我实在是无法get到msg,那么如果我可以get到msg.Content也是可以啊\n",
    "# 可以定义一个函数如下：\n",
    "\n",
    "def print_content(COUNT):\n",
    "    print(COUNT)\n",
    "    @itchat.msg_register([TEXT, MAP, CARD, NOTE, SHARING, PICTURE, RECORDING, ATTACHMENT, VIDEO])\n",
    "    def reply(msg):\n",
    "        \n",
    "        reply_content = msg.Content\n",
    "        if reply_content:\n",
    "            return 'repltent'\n",
    "        return \n",
    "    \n",
    "    \n",
    "global reply_content\n",
    "COUNT = 10\n",
    "while COUNT:\n",
    "    print_content(COUNT)\n",
    "\n",
    "    itchat.configured_reply()  # 动态注册\n",
    "    reply_content = None\n",
    "    time.sleep(1)\n",
    "    COUNT -=1"
   ]
  },
  {
   "cell_type": "code",
   "execution_count": 9,
   "metadata": {},
   "outputs": [
    {
     "name": "stdout",
     "output_type": "stream",
     "text": [
      "笔记功能已打开!\n",
      "笔记功能已关闭！\n"
     ]
    }
   ],
   "source": [
    "\n",
    "name_list = ['被冻结的光','光', '岑']\n",
    "userNames = get_userName(*name_list)\n",
    "\n",
    "def note_switch(content):\n",
    "    global note_on,init_note\n",
    "    if content == 'open note':\n",
    "        note_on = True\n",
    "        init_note = True\n",
    "\n",
    "    elif content == 'close note':\n",
    "        note_on = False\n",
    "        \n",
    "    else:\n",
    "        note_on = None\n",
    "        init_note = None\n",
    "        \n",
    "def note_response(content, nickname):\n",
    "    global init_note, note, note_on, mode_choise, mode_english, mode_essay\n",
    "    if note_on:\n",
    "        # ------------------- initial notebook --------------------start\n",
    "        print('笔记功能已打开!')\n",
    "        if init_note:\n",
    "            note = Mynote(nickname)\n",
    "            try:\n",
    "                note.load()\n",
    "            except:\n",
    "                print('No dictionary data was imported')\n",
    "            disp_mode = [' Record ', ' Review ']\n",
    "            mode = True\n",
    "            init_note = False\n",
    "            return '笔记功能已打开! \\n 1:进入记录模式\\n 2:进入回顾模式\\n 0:退出'\n",
    "        # ------------------- initial notebook ---------------------end    \n",
    "        # ------------------- mode choise --------------------start \n",
    "        if mode_choise:\n",
    "            if content == '1':\n",
    "                mode = 'record'\n",
    "                return '****** Record *******\\n English :1 \\n Inspiration :2\\n back :0'\n",
    "            elif content == '2':\n",
    "                mode = 'review'\n",
    "                return '****** Review *******'\n",
    "            elif content == '0':\n",
    "                note_on = False\n",
    "            else:\n",
    "                return 'invalid input, please try again'\n",
    "        # ------------------- mode choise --------------------end\n",
    "        \n",
    "        elif mode == 'record':\n",
    "            pass\n",
    "        elif mode == 'review':\n",
    "            pass\n",
    "            \n",
    "        \n",
    "    elif note_on == False:\n",
    "        note.save()\n",
    "        print('笔记功能已关闭！')\n",
    "        return '笔记功能已关闭！'\n",
    "    \n",
    "\n",
    "\n",
    "def specify_reply(msg, userNames):\n",
    "    '''Only reply to people in userNames '''\n",
    "    if msg == None:\n",
    "        return\n",
    "    if msg.user.UserName in list(userNames.values()):\n",
    "        \n",
    "        content = msg.Content\n",
    "        note_switch(content)\n",
    "        # xx_switch(content)\n",
    "\n",
    "        if note_on==True or note_on == False:\n",
    "            response = note_response(content, msg.user.NickName)\n",
    "        else :\n",
    "            response = None\n",
    "            \n",
    "        msg.user.send(response)\n",
    "        \n",
    "def reply_register():\n",
    "\n",
    "    @itchat.msg_register([TEXT, MAP, CARD, NOTE, SHARING, PICTURE, RECORDING, ATTACHMENT, VIDEO])\n",
    "    def reply(msg):\n",
    "        \n",
    "        specify_reply(msg, userNames)\n",
    "        \n",
    "        return \n",
    "\n",
    "    \n",
    "    \n",
    "COUNT = 10\n",
    "while COUNT:\n",
    "    \n",
    "    reply_register()\n",
    "    \n",
    "    time.sleep(1)\n",
    "    itchat.configured_reply()  # 动态注册\n",
    "    \n",
    "    COUNT -= 1"
   ]
  },
  {
   "cell_type": "code",
   "execution_count": 122,
   "metadata": {},
   "outputs": [
    {
     "data": {
      "text/plain": [
       "True"
      ]
     },
     "execution_count": 122,
     "metadata": {},
     "output_type": "execute_result"
    }
   ],
   "source": [
    "init_note"
   ]
  },
  {
   "cell_type": "code",
   "execution_count": 116,
   "metadata": {},
   "outputs": [
    {
     "data": {
      "text/plain": [
       "True"
      ]
     },
     "execution_count": 116,
     "metadata": {},
     "output_type": "execute_result"
    }
   ],
   "source": [
    "init_note"
   ]
  },
  {
   "cell_type": "code",
   "execution_count": null,
   "metadata": {},
   "outputs": [],
   "source": []
  },
  {
   "cell_type": "code",
   "execution_count": 103,
   "metadata": {},
   "outputs": [],
   "source": [
    "def g():\n",
    "    \n",
    "    def f(x):\n",
    "        global zzz\n",
    "        zzz = x\n",
    "        return\n",
    "    f(10)\n",
    "    def s():\n",
    "        print(zzz)\n",
    "    s()\n"
   ]
  },
  {
   "cell_type": "code",
   "execution_count": 104,
   "metadata": {},
   "outputs": [
    {
     "name": "stdout",
     "output_type": "stream",
     "text": [
      "10\n"
     ]
    }
   ],
   "source": [
    "g()"
   ]
  },
  {
   "cell_type": "code",
   "execution_count": 92,
   "metadata": {},
   "outputs": [
    {
     "data": {
      "text/latex": [
       "$\\displaystyle 10$"
      ],
      "text/plain": [
       "10"
      ]
     },
     "execution_count": 92,
     "metadata": {},
     "output_type": "execute_result"
    }
   ],
   "source": [
    "XXX"
   ]
  },
  {
   "cell_type": "code",
   "execution_count": 88,
   "metadata": {},
   "outputs": [],
   "source": [
    "def s():\n",
    "    print(XXX)"
   ]
  },
  {
   "cell_type": "code",
   "execution_count": 89,
   "metadata": {},
   "outputs": [
    {
     "name": "stdout",
     "output_type": "stream",
     "text": [
      "5\n"
     ]
    }
   ],
   "source": [
    "s()"
   ]
  },
  {
   "cell_type": "code",
   "execution_count": null,
   "metadata": {},
   "outputs": [],
   "source": []
  }
 ],
 "metadata": {
  "kernelspec": {
   "display_name": "Python [conda env:mxnet]",
   "language": "python",
   "name": "conda-env-mxnet-py"
  },
  "language_info": {
   "codemirror_mode": {
    "name": "ipython",
    "version": 3
   },
   "file_extension": ".py",
   "mimetype": "text/x-python",
   "name": "python",
   "nbconvert_exporter": "python",
   "pygments_lexer": "ipython3",
   "version": "3.7.4"
  }
 },
 "nbformat": 4,
 "nbformat_minor": 4
}
